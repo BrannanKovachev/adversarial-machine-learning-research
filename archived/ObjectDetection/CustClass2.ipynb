{
 "cells": [
  {
   "cell_type": "code",
   "execution_count": 1,
   "source": [
    "import torchvision.datasets as dset\r\n",
    "import torch\r\n",
    "from torch.utils.data import DataLoader as DataLoader\r\n",
    "from torchvision import transforms\r\n",
    "from torchvision.transforms import ToTensor"
   ],
   "outputs": [],
   "metadata": {}
  },
  {
   "cell_type": "code",
   "execution_count": 2,
   "source": [
    "# import torchvision.transforms as transforms\r\n",
    "import cv2\r\n",
    "import numpy as np\r\n",
    "import torchvision\r\n",
    "import torch\r\n",
    "from torch.utils.data import DataLoader as DataLoader\r\n",
    "import argparse\r\n",
    "from PIL import Image"
   ],
   "outputs": [],
   "metadata": {}
  },
  {
   "cell_type": "code",
   "execution_count": 3,
   "source": [
    "coco_names = [\r\n",
    "    '__background__', 'person', 'bicycle', 'car', 'motorcycle', 'airplane', 'bus',\r\n",
    "    'train', 'truck', 'boat', 'traffic light', 'fire hydrant', 'N/A', 'stop sign',\r\n",
    "    'parking meter', 'bench', 'bird', 'cat', 'dog', 'horse', 'sheep', 'cow',\r\n",
    "    'elephant', 'bear', 'zebra', 'giraffe', 'N/A', 'backpack', 'umbrella', 'N/A', 'N/A',\r\n",
    "    'handbag', 'tie', 'suitcase', 'frisbee', 'skis', 'snowboard', 'sports ball',\r\n",
    "    'kite', 'baseball bat', 'baseball glove', 'skateboard', 'surfboard', 'tennis racket',\r\n",
    "    'bottle', 'N/A', 'wine glass', 'cup', 'fork', 'knife', 'spoon', 'bowl',\r\n",
    "    'banana', 'apple', 'sandwich', 'orange', 'broccoli', 'carrot', 'hot dog', 'pizza',\r\n",
    "    'donut', 'cake', 'chair', 'couch', 'potted plant', 'bed', 'N/A', 'dining table',\r\n",
    "    'N/A', 'N/A', 'toilet', 'N/A', 'tv', 'laptop', 'mouse', 'remote', 'keyboard', 'cell phone',\r\n",
    "    'microwave', 'oven', 'toaster', 'sink', 'refrigerator', 'N/A', 'book',\r\n",
    "    'clock', 'vase', 'scissors', 'teddy bear', 'hair drier', 'toothbrush'\r\n",
    "]"
   ],
   "outputs": [],
   "metadata": {}
  },
  {
   "cell_type": "code",
   "execution_count": 4,
   "source": [
    "pathToData=\"C:/Users/apole/Desktop/AML/ObjectDetection/V1/datasets/coco/data/val2017\"\r\n",
    "pathToJson=\"C:/Users/apole/Desktop/AML/ObjectDetection/V1/datasets/coco/annotations/instances_val2017.json\""
   ],
   "outputs": [],
   "metadata": {}
  },
  {
   "cell_type": "code",
   "execution_count": 5,
   "source": [
    "# this will help us create a different color for each class\r\n",
    "COLORS = np.random.uniform(0, 255, size=(len(coco_names), 3))"
   ],
   "outputs": [],
   "metadata": {}
  },
  {
   "cell_type": "code",
   "execution_count": 6,
   "source": [
    "def predict(image, model, device, detection_threshold):\r\n",
    "    # transform the image to tensor\r\n",
    "    image = transform(image).to(device)\r\n",
    "    image = image.unsqueeze(0) # add a batch dimension\r\n",
    "    outputs = model(image) # get the predictions on the image\r\n",
    "    # print the results individually\r\n",
    "    # print(f\"BOXES: {outputs[0]['boxes']}\")\r\n",
    "    # print(f\"LABELS: {outputs[0]['labels']}\")\r\n",
    "    # print(f\"SCORES: {outputs[0]['scores']}\")\r\n",
    "    # get all the predicited class names\r\n",
    "    pred_classes = [coco_names[i] for i in outputs[0]['labels'].cpu().numpy()]\r\n",
    "    # get score for all the predicted objects\r\n",
    "    pred_scores = outputs[0]['scores'].detach().cpu().numpy()\r\n",
    "    # get all the predicted bounding boxes\r\n",
    "    pred_bboxes = outputs[0]['boxes'].detach().cpu().numpy()\r\n",
    "    # get boxes above the threshold score\r\n",
    "    boxes = pred_bboxes[pred_scores >= detection_threshold].astype(np.int32)\r\n",
    "    return boxes, pred_classes, outputs[0]['labels']\r\n",
    "\r\n",
    "def draw_boxes(boxes, classes, labels, image):\r\n",
    "    # read the image with OpenCV\r\n",
    "    image = cv2.cvtColor(np.asarray(image), cv2.COLOR_BGR2RGB)\r\n",
    "    for i, box in enumerate(boxes):\r\n",
    "        color = COLORS[labels[i]]\r\n",
    "        cv2.rectangle(\r\n",
    "            image,\r\n",
    "            (int(box[0]), int(box[1])),\r\n",
    "            (int(box[2]), int(box[3])),\r\n",
    "            color, 2\r\n",
    "        )\r\n",
    "        cv2.putText(image, classes[i], (int(box[0]), int(box[1]-5)),\r\n",
    "                    cv2.FONT_HERSHEY_SIMPLEX, 0.8, color, 2, \r\n",
    "                    lineType=cv2.LINE_AA)\r\n",
    "    return image"
   ],
   "outputs": [],
   "metadata": {}
  },
  {
   "cell_type": "code",
   "execution_count": 7,
   "source": [
    "device = torch.device('cuda') if torch.cuda.is_available() else torch.device('cpu')"
   ],
   "outputs": [],
   "metadata": {}
  },
  {
   "cell_type": "code",
   "execution_count": 8,
   "source": [
    "transform = transforms.Compose([\r\n",
    "    # you can add other transformations in this list\r\n",
    "    transforms.ToTensor(),\r\n",
    "    # transforms.Resize((512,512))\r\n",
    "])"
   ],
   "outputs": [],
   "metadata": {}
  },
  {
   "cell_type": "code",
   "execution_count": 9,
   "source": [
    "coco = dset.CocoDetection(root = pathToData, annFile = pathToJson, transform=transform)\r\n",
    "print('Number of samples: ', len(coco))\r\n",
    "coco"
   ],
   "outputs": [
    {
     "output_type": "stream",
     "name": "stdout",
     "text": [
      "loading annotations into memory...\n",
      "Done (t=0.99s)\n",
      "creating index...\n",
      "index created!\n",
      "Number of samples:  5000\n"
     ]
    },
    {
     "output_type": "execute_result",
     "data": {
      "text/plain": [
       "Dataset CocoDetection\n",
       "    Number of datapoints: 5000\n",
       "    Root location: C:/Users/apole/Desktop/AML/ObjectDetection/V1/datasets/coco/data/val2017\n",
       "    StandardTransform\n",
       "Transform: Compose(\n",
       "               ToTensor()\n",
       "           )"
      ]
     },
     "metadata": {},
     "execution_count": 9
    }
   ],
   "metadata": {}
  },
  {
   "cell_type": "code",
   "execution_count": 10,
   "source": [
    "img, target = coco[0]\r\n",
    "print (img.size)\r\n",
    "print(len(target))\r\n",
    "# img"
   ],
   "outputs": [
    {
     "output_type": "stream",
     "name": "stdout",
     "text": [
      "<built-in method size of Tensor object at 0x000001C03FE06D00>\n",
      "20\n"
     ]
    }
   ],
   "metadata": {}
  },
  {
   "cell_type": "code",
   "execution_count": 11,
   "source": [
    "# def collate_fn(batch):\r\n",
    "#     return tuple(zip(*batch))"
   ],
   "outputs": [],
   "metadata": {}
  },
  {
   "cell_type": "code",
   "execution_count": 22,
   "source": [
    "def collate_fn(data):\r\n",
    "    \"\"\"Creates mini-batch tensors from the list of tuples (image, caption).\r\n",
    "    \r\n",
    "    We should build custom collate_fn rather than using default collate_fn, \r\n",
    "    because merging caption (including padding) is not supported in default.\r\n",
    "    Args:\r\n",
    "        data: list of tuple (image, caption). \r\n",
    "            - image: torch tensor of shape (3, 256, 256).\r\n",
    "            - caption: torch tensor of shape (?); variable length.\r\n",
    "    Returns:\r\n",
    "        images: torch tensor of shape (batch_size, 3, 256, 256).\r\n",
    "        targets: torch tensor of shape (batch_size, padded_length).\r\n",
    "        lengths: list; valid length for each padded caption.\r\n",
    "    \"\"\"\r\n",
    "    # Sort a data list by caption length (descending order).\r\n",
    "    data.sort(key=lambda x: len(x[1]), reverse=True)\r\n",
    "    images, captions = zip(*data)\r\n",
    "\r\n",
    "    # Merge images (from tuple of 3D tensor to 4D tensor).\r\n",
    "    images = torch.stack(images, 0)\r\n",
    "\r\n",
    "    # Merge captions (from tuple of 1D tensor to 2D tensor).\r\n",
    "    lengths = [len(cap) for cap in captions]\r\n",
    "    targets = torch.zeros(len(captions), max(lengths)).long()\r\n",
    "    for i, cap in enumerate(captions):\r\n",
    "        end = lengths[i]\r\n",
    "        targets[i, :end] = cap[:end]\r\n",
    "        # targets[i, :end] = torch.from_numpy(np.array(list(map(ord, cap[:end])))).to(torch.long)     \r\n",
    "    return images, targets, lengths"
   ],
   "outputs": [],
   "metadata": {}
  },
  {
   "cell_type": "code",
   "execution_count": 20,
   "source": [
    "data_loader = DataLoader(coco, batch_size=1, shuffle=False, num_workers=0, collate_fn=collate_fn)\r\n",
    "print(len(data_loader))\r\n",
    "data_loader"
   ],
   "outputs": [
    {
     "output_type": "stream",
     "name": "stdout",
     "text": [
      "5000\n"
     ]
    },
    {
     "output_type": "execute_result",
     "data": {
      "text/plain": [
       "<torch.utils.data.dataloader.DataLoader at 0x1c051ad8eb0>"
      ]
     },
     "metadata": {},
     "execution_count": 20
    }
   ],
   "metadata": {}
  },
  {
   "cell_type": "code",
   "execution_count": 13,
   "source": [
    "# Target is Tuple of Lists\r\n",
    "for img, annotations in data_loader:\r\n",
    "    # for t in annotations:\r\n",
    "        # print(len(t))\r\n",
    "\r\n",
    "        # print(x[0].items())\r\n",
    "    # print(img)\r\n",
    "    # print(target.size)\r\n",
    "    # print(len(target))\r\n",
    "    # print(torch.tensor(img))\r\n",
    "    # print(img.count)\r\n",
    "    break"
   ],
   "outputs": [],
   "metadata": {}
  },
  {
   "cell_type": "code",
   "execution_count": 117,
   "source": [
    "# DataLoader is iterable over Dataset\r\n",
    "# for imgs, annotations in data_loader:\r\n",
    "    # imgs = list(img.to(device) for img in imgs)\r\n",
    "    # annotations = [{k: v.to(device) for k, v in t.items()} for t in annotations]\r\n",
    "    # print(imgs.)"
   ],
   "outputs": [],
   "metadata": {}
  },
  {
   "cell_type": "code",
   "execution_count": 14,
   "source": [
    "# download or load the model from disk\r\n",
    "model = torchvision.models.detection.fasterrcnn_resnet50_fpn(pretrained=True, min_size=800)"
   ],
   "outputs": [],
   "metadata": {}
  },
  {
   "cell_type": "code",
   "execution_count": 21,
   "source": [
    "model.eval()\r\n",
    "for imgs, annotations in data_loader:\r\n",
    "    model.to(device)\r\n",
    "\r\n",
    "    image = imgs\r\n",
    "    image = transform(image).to(device)\r\n",
    "    image = image.unsqueeze(0)\r\n",
    "    outputs = model(image)\r\n",
    "    # get all the predicited class names\r\n",
    "    pred_classes = [coco_names[i] for i in outputs[0]['labels'].cpu().numpy()]\r\n",
    "    # get score for all the predicted objects\r\n",
    "    pred_scores = outputs[0]['scores'].detach().cpu().numpy()\r\n",
    "    # get all the predicted bounding boxes\r\n",
    "    pred_bboxes = outputs[0]['boxes'].detach().cpu().numpy()\r\n",
    "    # get boxes above the threshold score\r\n",
    "    boxes = pred_bboxes[pred_scores >= .8].astype(np.int32)\r\n",
    "    # boxes, pred_classes, outputs[0]['labels']\r\n",
    "    print(boxes)\r\n",
    "    print(pred_classes)\r\n",
    "    print(outputs[0]['labels'])\r\n",
    "\r\n",
    "    # image = imgs\r\n",
    "    # boxes, classes, labels = predict(image, model, device, 0.8)\r\n",
    "    # image = draw_boxes(boxes, classes, labels, image)\r\n",
    "    # save_name = f\"{args['input'].split('/')[-1].split('.')[0]}_{args['min_size']}\"\r\n",
    "    # cv2.imwrite(f\"outputs/{save_name}.jpg\", image)\r\n",
    "    # cv2.waitKey(0)\r\n",
    "    break\r\n",
    "\r\n",
    "\r\n",
    "# image = Image.open(args['input'])\r\n",
    "# model.eval().to(device)\r\n",
    "# boxes, classes, labels = predict(image, model, device, 0.8)\r\n",
    "# image = draw_boxes(boxes, classes, labels, image)\r\n",
    "# cv2.imshow('Image', image)\r\n",
    "# save_name = f\"{args['input'].split('/')[-1].split('.')[0]}_{args['min_size']}\"\r\n",
    "# cv2.imwrite(f\"outputs/{save_name}.jpg\", image)\r\n",
    "# cv2.waitKey(0)"
   ],
   "outputs": [
    {
     "output_type": "error",
     "ename": "TypeError",
     "evalue": "ord() expected string of length 1, but dict found",
     "traceback": [
      "\u001b[1;31m---------------------------------------------------------------------------\u001b[0m",
      "\u001b[1;31mTypeError\u001b[0m                                 Traceback (most recent call last)",
      "\u001b[1;32m<ipython-input-21-16db5c12d92a>\u001b[0m in \u001b[0;36m<module>\u001b[1;34m\u001b[0m\n\u001b[0;32m      1\u001b[0m \u001b[0mmodel\u001b[0m\u001b[1;33m.\u001b[0m\u001b[0meval\u001b[0m\u001b[1;33m(\u001b[0m\u001b[1;33m)\u001b[0m\u001b[1;33m\u001b[0m\u001b[1;33m\u001b[0m\u001b[0m\n\u001b[1;32m----> 2\u001b[1;33m \u001b[1;32mfor\u001b[0m \u001b[0mimgs\u001b[0m\u001b[1;33m,\u001b[0m \u001b[0mannotations\u001b[0m \u001b[1;32min\u001b[0m \u001b[0mdata_loader\u001b[0m\u001b[1;33m:\u001b[0m\u001b[1;33m\u001b[0m\u001b[1;33m\u001b[0m\u001b[0m\n\u001b[0m\u001b[0;32m      3\u001b[0m     \u001b[0mmodel\u001b[0m\u001b[1;33m.\u001b[0m\u001b[0mto\u001b[0m\u001b[1;33m(\u001b[0m\u001b[0mdevice\u001b[0m\u001b[1;33m)\u001b[0m\u001b[1;33m\u001b[0m\u001b[1;33m\u001b[0m\u001b[0m\n\u001b[0;32m      4\u001b[0m \u001b[1;33m\u001b[0m\u001b[0m\n\u001b[0;32m      5\u001b[0m     \u001b[0mimage\u001b[0m \u001b[1;33m=\u001b[0m \u001b[0mimgs\u001b[0m\u001b[1;33m\u001b[0m\u001b[1;33m\u001b[0m\u001b[0m\n",
      "\u001b[1;32mC:\\Python39\\lib\\site-packages\\torch\\utils\\data\\dataloader.py\u001b[0m in \u001b[0;36m__next__\u001b[1;34m(self)\u001b[0m\n\u001b[0;32m    515\u001b[0m             \u001b[1;32mif\u001b[0m \u001b[0mself\u001b[0m\u001b[1;33m.\u001b[0m\u001b[0m_sampler_iter\u001b[0m \u001b[1;32mis\u001b[0m \u001b[1;32mNone\u001b[0m\u001b[1;33m:\u001b[0m\u001b[1;33m\u001b[0m\u001b[1;33m\u001b[0m\u001b[0m\n\u001b[0;32m    516\u001b[0m                 \u001b[0mself\u001b[0m\u001b[1;33m.\u001b[0m\u001b[0m_reset\u001b[0m\u001b[1;33m(\u001b[0m\u001b[1;33m)\u001b[0m\u001b[1;33m\u001b[0m\u001b[1;33m\u001b[0m\u001b[0m\n\u001b[1;32m--> 517\u001b[1;33m             \u001b[0mdata\u001b[0m \u001b[1;33m=\u001b[0m \u001b[0mself\u001b[0m\u001b[1;33m.\u001b[0m\u001b[0m_next_data\u001b[0m\u001b[1;33m(\u001b[0m\u001b[1;33m)\u001b[0m\u001b[1;33m\u001b[0m\u001b[1;33m\u001b[0m\u001b[0m\n\u001b[0m\u001b[0;32m    518\u001b[0m             \u001b[0mself\u001b[0m\u001b[1;33m.\u001b[0m\u001b[0m_num_yielded\u001b[0m \u001b[1;33m+=\u001b[0m \u001b[1;36m1\u001b[0m\u001b[1;33m\u001b[0m\u001b[1;33m\u001b[0m\u001b[0m\n\u001b[0;32m    519\u001b[0m             \u001b[1;32mif\u001b[0m \u001b[0mself\u001b[0m\u001b[1;33m.\u001b[0m\u001b[0m_dataset_kind\u001b[0m \u001b[1;33m==\u001b[0m \u001b[0m_DatasetKind\u001b[0m\u001b[1;33m.\u001b[0m\u001b[0mIterable\u001b[0m \u001b[1;32mand\u001b[0m\u001b[0;31m \u001b[0m\u001b[0;31m\\\u001b[0m\u001b[1;33m\u001b[0m\u001b[1;33m\u001b[0m\u001b[0m\n",
      "\u001b[1;32mC:\\Python39\\lib\\site-packages\\torch\\utils\\data\\dataloader.py\u001b[0m in \u001b[0;36m_next_data\u001b[1;34m(self)\u001b[0m\n\u001b[0;32m    555\u001b[0m     \u001b[1;32mdef\u001b[0m \u001b[0m_next_data\u001b[0m\u001b[1;33m(\u001b[0m\u001b[0mself\u001b[0m\u001b[1;33m)\u001b[0m\u001b[1;33m:\u001b[0m\u001b[1;33m\u001b[0m\u001b[1;33m\u001b[0m\u001b[0m\n\u001b[0;32m    556\u001b[0m         \u001b[0mindex\u001b[0m \u001b[1;33m=\u001b[0m \u001b[0mself\u001b[0m\u001b[1;33m.\u001b[0m\u001b[0m_next_index\u001b[0m\u001b[1;33m(\u001b[0m\u001b[1;33m)\u001b[0m  \u001b[1;31m# may raise StopIteration\u001b[0m\u001b[1;33m\u001b[0m\u001b[1;33m\u001b[0m\u001b[0m\n\u001b[1;32m--> 557\u001b[1;33m         \u001b[0mdata\u001b[0m \u001b[1;33m=\u001b[0m \u001b[0mself\u001b[0m\u001b[1;33m.\u001b[0m\u001b[0m_dataset_fetcher\u001b[0m\u001b[1;33m.\u001b[0m\u001b[0mfetch\u001b[0m\u001b[1;33m(\u001b[0m\u001b[0mindex\u001b[0m\u001b[1;33m)\u001b[0m  \u001b[1;31m# may raise StopIteration\u001b[0m\u001b[1;33m\u001b[0m\u001b[1;33m\u001b[0m\u001b[0m\n\u001b[0m\u001b[0;32m    558\u001b[0m         \u001b[1;32mif\u001b[0m \u001b[0mself\u001b[0m\u001b[1;33m.\u001b[0m\u001b[0m_pin_memory\u001b[0m\u001b[1;33m:\u001b[0m\u001b[1;33m\u001b[0m\u001b[1;33m\u001b[0m\u001b[0m\n\u001b[0;32m    559\u001b[0m             \u001b[0mdata\u001b[0m \u001b[1;33m=\u001b[0m \u001b[0m_utils\u001b[0m\u001b[1;33m.\u001b[0m\u001b[0mpin_memory\u001b[0m\u001b[1;33m.\u001b[0m\u001b[0mpin_memory\u001b[0m\u001b[1;33m(\u001b[0m\u001b[0mdata\u001b[0m\u001b[1;33m)\u001b[0m\u001b[1;33m\u001b[0m\u001b[1;33m\u001b[0m\u001b[0m\n",
      "\u001b[1;32mC:\\Python39\\lib\\site-packages\\torch\\utils\\data\\_utils\\fetch.py\u001b[0m in \u001b[0;36mfetch\u001b[1;34m(self, possibly_batched_index)\u001b[0m\n\u001b[0;32m     45\u001b[0m         \u001b[1;32melse\u001b[0m\u001b[1;33m:\u001b[0m\u001b[1;33m\u001b[0m\u001b[1;33m\u001b[0m\u001b[0m\n\u001b[0;32m     46\u001b[0m             \u001b[0mdata\u001b[0m \u001b[1;33m=\u001b[0m \u001b[0mself\u001b[0m\u001b[1;33m.\u001b[0m\u001b[0mdataset\u001b[0m\u001b[1;33m[\u001b[0m\u001b[0mpossibly_batched_index\u001b[0m\u001b[1;33m]\u001b[0m\u001b[1;33m\u001b[0m\u001b[1;33m\u001b[0m\u001b[0m\n\u001b[1;32m---> 47\u001b[1;33m         \u001b[1;32mreturn\u001b[0m \u001b[0mself\u001b[0m\u001b[1;33m.\u001b[0m\u001b[0mcollate_fn\u001b[0m\u001b[1;33m(\u001b[0m\u001b[0mdata\u001b[0m\u001b[1;33m)\u001b[0m\u001b[1;33m\u001b[0m\u001b[1;33m\u001b[0m\u001b[0m\n\u001b[0m",
      "\u001b[1;32m<ipython-input-19-be50e6185132>\u001b[0m in \u001b[0;36mcollate_fn\u001b[1;34m(data)\u001b[0m\n\u001b[0;32m     26\u001b[0m         \u001b[0mend\u001b[0m \u001b[1;33m=\u001b[0m \u001b[0mlengths\u001b[0m\u001b[1;33m[\u001b[0m\u001b[0mi\u001b[0m\u001b[1;33m]\u001b[0m\u001b[1;33m\u001b[0m\u001b[1;33m\u001b[0m\u001b[0m\n\u001b[0;32m     27\u001b[0m         \u001b[1;31m# targets[i, :end] = cap[:end]\u001b[0m\u001b[1;33m\u001b[0m\u001b[1;33m\u001b[0m\u001b[1;33m\u001b[0m\u001b[0m\n\u001b[1;32m---> 28\u001b[1;33m         \u001b[0mtargets\u001b[0m\u001b[1;33m[\u001b[0m\u001b[0mi\u001b[0m\u001b[1;33m,\u001b[0m \u001b[1;33m:\u001b[0m\u001b[0mend\u001b[0m\u001b[1;33m]\u001b[0m \u001b[1;33m=\u001b[0m \u001b[0mtorch\u001b[0m\u001b[1;33m.\u001b[0m\u001b[0mfrom_numpy\u001b[0m\u001b[1;33m(\u001b[0m\u001b[0mnp\u001b[0m\u001b[1;33m.\u001b[0m\u001b[0marray\u001b[0m\u001b[1;33m(\u001b[0m\u001b[0mlist\u001b[0m\u001b[1;33m(\u001b[0m\u001b[0mmap\u001b[0m\u001b[1;33m(\u001b[0m\u001b[0mord\u001b[0m\u001b[1;33m,\u001b[0m \u001b[0mcap\u001b[0m\u001b[1;33m[\u001b[0m\u001b[1;33m:\u001b[0m\u001b[0mend\u001b[0m\u001b[1;33m]\u001b[0m\u001b[1;33m)\u001b[0m\u001b[1;33m)\u001b[0m\u001b[1;33m)\u001b[0m\u001b[1;33m)\u001b[0m\u001b[1;33m.\u001b[0m\u001b[0mto\u001b[0m\u001b[1;33m(\u001b[0m\u001b[0mtorch\u001b[0m\u001b[1;33m.\u001b[0m\u001b[0mlong\u001b[0m\u001b[1;33m)\u001b[0m\u001b[1;33m\u001b[0m\u001b[1;33m\u001b[0m\u001b[0m\n\u001b[0m\u001b[0;32m     29\u001b[0m     \u001b[1;32mreturn\u001b[0m \u001b[0mimages\u001b[0m\u001b[1;33m,\u001b[0m \u001b[0mtargets\u001b[0m\u001b[1;33m,\u001b[0m \u001b[0mlengths\u001b[0m\u001b[1;33m\u001b[0m\u001b[1;33m\u001b[0m\u001b[0m\n",
      "\u001b[1;31mTypeError\u001b[0m: ord() expected string of length 1, but dict found"
     ]
    }
   ],
   "metadata": {}
  },
  {
   "cell_type": "code",
   "execution_count": null,
   "source": [],
   "outputs": [],
   "metadata": {}
  }
 ],
 "metadata": {
  "interpreter": {
   "hash": "63fd5069d213b44bf678585dea6b12cceca9941eaf7f819626cde1f2670de90d"
  },
  "kernelspec": {
   "display_name": "Python 3.9.1 64-bit",
   "name": "python3"
  },
  "language_info": {
   "codemirror_mode": {
    "name": "ipython",
    "version": 3
   },
   "file_extension": ".py",
   "mimetype": "text/x-python",
   "name": "python",
   "nbconvert_exporter": "python",
   "pygments_lexer": "ipython3",
   "version": "3.9.1"
  },
  "orig_nbformat": 4
 },
 "nbformat": 4,
 "nbformat_minor": 2
}