{
 "metadata": {
  "language_info": {
   "codemirror_mode": {
    "name": "ipython",
    "version": 3
   },
   "file_extension": ".py",
   "mimetype": "text/x-python",
   "name": "python",
   "nbconvert_exporter": "python",
   "pygments_lexer": "ipython3",
   "version": 3
  },
  "orig_nbformat": 4
 },
 "nbformat": 4,
 "nbformat_minor": 2,
 "cells": [
  {
   "cell_type": "code",
   "execution_count": null,
   "metadata": {},
   "outputs": [],
   "source": [
    "from torchvision import datasets, transforms, models\n",
    "from torchvision.utils import make_grid\n",
    "\n",
    "from torch.utils.data.dataset import random_split\n",
    "from torch.utils.data import DataLoader\n",
    "\n",
    "from torch import nn\n",
    "from torch import optim\n",
    "\n",
    "import torch\n",
    "import torch.nn.functional as F"
   ]
  },
  {
   "cell_type": "code",
   "execution_count": null,
   "metadata": {},
   "outputs": [],
   "source": [
    "# !unzip archive.zip -d data"
   ]
  },
  {
   "cell_type": "code",
   "execution_count": null,
   "metadata": {},
   "outputs": [],
   "source": [
    "train_transform = transforms.Compose([\n",
    "    transforms.RandomRotation(30),\n",
    "    transforms.RandomResizedCrop(224),\n",
    "    transforms.RandomHorizontalFlip(),\n",
    "    transforms.ToTensor(),\n",
    "    transforms.Normalize([0.485, 0.456, 0.406], [0.229, 0.224, 0.225]),\n",
    "])\n",
    "\n",
    "test_transform = transforms.Compose([\n",
    "    transforms.Resize(255),\n",
    "    transforms.CenterCrop(224),\n",
    "    transforms.ToTensor(),\n",
    "    transforms.Normalize([0.485, 0.456, 0.406], [0.229, 0.224, 0.225]),\n",
    "])"
   ]
  },
  {
   "cell_type": "code",
   "execution_count": null,
   "metadata": {},
   "outputs": [],
   "source": [
    "train_dataset = datasets.ImageFolder('data/hotdog/train', transform=train_transform)\n",
    "test_dataset = datasets.ImageFolder('data/hotdog/test', transform=test_transform)\n",
    "\n",
    "train_dataloader = DataLoader(train_dataset, batch_size=64, shuffle=True)\n",
    "test_dataloader = DataLoader(test_dataset, batch_size=64, shuffle=True)"
   ]
  },
  {
   "cell_type": "code",
   "execution_count": null,
   "metadata": {},
   "outputs": [],
   "source": [
    "device = torch.device('cuda:0' if torch.cuda.is_available() else 'cpu')"
   ]
  },
  {
   "cell_type": "code",
   "execution_count": null,
   "metadata": {},
   "outputs": [],
   "source": [
    "net = models.resnet18(pretrained=True)\n",
    "\n",
    "# freeze parameters in all layers\n",
    "for param in net.parameters():\n",
    "    param.requires_grad = False\n",
    "\n",
    "# switch the final layer (named \"fc\") to a fully-connected with 2 outputs\n",
    "# note: parameters of newly created modules have unfrozen parameters by default\n",
    "num_features = net.fc.in_features\n",
    "net.fc = nn.Linear(num_features, 2)\n",
    "\n",
    "net = net.to(device)"
   ]
  },
  {
   "cell_type": "code",
   "execution_count": null,
   "metadata": {},
   "outputs": [],
   "source": [
    "criterion = nn.CrossEntropyLoss()\n",
    "optimizer = optim.SGD(net.parameters(), lr=0.001, momentum=0.9)"
   ]
  },
  {
   "cell_type": "code",
   "execution_count": null,
   "metadata": {},
   "outputs": [],
   "source": [
    "net.train()  # set network to training phase\n",
    "    \n",
    "epochs = 25\n",
    "\n",
    "# for each pass of the training dataset\n",
    "for epoch in range(epochs):\n",
    "    train_loss, train_correct, train_total = 0, 0, 0\n",
    "    \n",
    "    # for each batch of training examples\n",
    "    for batch_index, (inputs, labels) in enumerate(train_dataloader):\n",
    "        inputs, labels = inputs.to(device), labels.to(device)\n",
    "        optimizer.zero_grad()  # zero the parameter gradients\n",
    "        outputs = net(inputs)  # forward pass\n",
    "        loss = criterion(outputs, labels)  # compare output with ground truth\n",
    "        loss.backward()  # backpropagation\n",
    "        optimizer.step()  # update network weights\n",
    "\n",
    "        # record statistics\n",
    "        _, preds = torch.max(outputs.data, 1)\n",
    "        train_loss += loss.item()\n",
    "        train_correct += (preds == labels).sum().item()\n",
    "        train_total += len(labels)\n",
    "        \n",
    "        # print statistics every 100 batches\n",
    "        if (batch_index + 1) % 1 == 0:\n",
    "            print(f'Epoch {epoch + 1}, ' +\n",
    "                  f'Batch {batch_index + 1}, ' +\n",
    "                  f'Train Loss: {(train_loss/1):.5f}, ' +\n",
    "                  f'Train Accuracy: {(train_correct/train_total):.5f}')\n",
    "            \n",
    "            train_loss, train_correct, train_total = 0, 0, 0"
   ]
  },
  {
   "cell_type": "code",
   "execution_count": null,
   "metadata": {},
   "outputs": [],
   "source": [
    "net.eval()  # set network to evaluation phase\n",
    "\n",
    "test_loss = 0\n",
    "test_correct = 0\n",
    "test_total = len(test_dataloader.dataset)\n",
    "\n",
    "with torch.no_grad():  # detach gradients so network runs faster\n",
    "    \n",
    "    # for each batch of testing examples\n",
    "    for batch_index, (inputs, labels) in enumerate(test_dataloader):\n",
    "        inputs, labels = inputs.to(device), labels.to(device)\n",
    "        outputs = net(inputs)  # forward pass\n",
    "        \n",
    "        # record loss\n",
    "        loss = criterion(outputs, labels)\n",
    "        test_loss += loss.item()\n",
    "        \n",
    "        # select largest output as prediction\n",
    "        _, preds = torch.max(outputs.data, 1)\n",
    "        \n",
    "         # compare prediction with ground truth and mark as correct if equal\n",
    "        test_correct += (preds == labels).sum().item()\n",
    "\n",
    "print(f'Test Loss: {(test_loss/len(test_dataloader)):.5f}, ' +\n",
    "      f'Test Accuracy: {(test_correct/test_total):.5f} ' +\n",
    "      f'({test_correct}/{test_total})')"
   ]
  },
  {
   "cell_type": "code",
   "execution_count": null,
   "metadata": {},
   "outputs": [],
   "source": [
    "mean = np.array([0.485, 0.456, 0.406])\n",
    "std = np.array([0.229, 0.224, 0.225])\n",
    "\n",
    "test_dataloader_iterator = iter(test_dataloader)\n",
    "inputs, _ = test_dataloader_iterator.next()\n",
    "\n",
    "images = make_grid(inputs[:6], nrow=2)\n",
    "images = images.numpy().transpose((1, 2, 0))\n",
    "images = np.clip(std * images + mean, 0, 1)\n",
    "plt.figure(figsize = (8, 12))\n",
    "plt.axis('off')\n",
    "plt.imshow(images)"
   ]
  },
  {
   "cell_type": "code",
   "execution_count": null,
   "metadata": {},
   "outputs": [],
   "source": [
    "inputs = inputs.to(device)\n",
    "outputs = net(inputs)\n",
    "\n",
    "# select largest output as prediction\n",
    "_, preds = torch.max(outputs.data, 1)\n",
    "\n",
    "labels_dict = {0: 'Hot Dog', 1: 'Not Hot Dog'}\n",
    "pred_labels = [labels_dict[pred] for pred in preds[:6].cpu().numpy()]\n",
    "\n",
    "for i, pred_label in enumerate(pred_labels, 1):\n",
    "    print(f'{i}. {pred_label}')"
   ]
  }
 ]
}